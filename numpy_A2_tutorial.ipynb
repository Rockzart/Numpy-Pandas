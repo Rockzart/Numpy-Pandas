{
  "cells": [
    {
      "cell_type": "markdown",
      "metadata": {
        "id": "view-in-github",
        "colab_type": "text"
      },
      "source": [
        "<a href=\"https://colab.research.google.com/github/Rockzart/Numpy-Pandas/blob/main/numpy_A2_tutorial.ipynb\" target=\"_parent\"><img src=\"https://colab.research.google.com/assets/colab-badge.svg\" alt=\"Open In Colab\"/></a>"
      ]
    },
    {
      "cell_type": "markdown",
      "id": "c7327e82-fd82-4234-a5ec-2c94292c198f",
      "metadata": {
        "id": "c7327e82-fd82-4234-a5ec-2c94292c198f"
      },
      "source": [
        "## Numpy"
      ]
    },
    {
      "cell_type": "markdown",
      "id": "a19730c2-6384-4353-80d1-4df49846f9d6",
      "metadata": {
        "id": "a19730c2-6384-4353-80d1-4df49846f9d6"
      },
      "source": [
        "__Ejercicio 1:__"
      ]
    },
    {
      "cell_type": "markdown",
      "id": "d0c1cfcc-7730-4612-9a49-23f3790b543f",
      "metadata": {
        "id": "d0c1cfcc-7730-4612-9a49-23f3790b543f"
      },
      "source": [
        "Importar numpy"
      ]
    },
    {
      "cell_type": "code",
      "execution_count": 1,
      "id": "fdc297ee-bc0d-42b8-a1cb-c01e45fae36d",
      "metadata": {
        "id": "fdc297ee-bc0d-42b8-a1cb-c01e45fae36d"
      },
      "outputs": [],
      "source": [
        "import numpy as np"
      ]
    },
    {
      "cell_type": "code",
      "execution_count": 2,
      "id": "a70a8238-60ef-4383-b3da-4714c1074c85",
      "metadata": {
        "id": "a70a8238-60ef-4383-b3da-4714c1074c85"
      },
      "outputs": [],
      "source": [
        "import matplotlib.pyplot as plt"
      ]
    },
    {
      "cell_type": "markdown",
      "id": "6abe2412-1096-42ef-ac26-97d52d483563",
      "metadata": {
        "id": "6abe2412-1096-42ef-ac26-97d52d483563"
      },
      "source": [
        "__Ejercicio 2:__"
      ]
    },
    {
      "cell_type": "code",
      "execution_count": 3,
      "id": "d06d31a3-2aba-4262-ba57-bb8b5989bb0f",
      "metadata": {
        "id": "d06d31a3-2aba-4262-ba57-bb8b5989bb0f"
      },
      "outputs": [],
      "source": [
        "lista = [31,28,29,19]"
      ]
    },
    {
      "cell_type": "markdown",
      "id": "a280bead-9a9a-4605-8954-e47d37cac2a6",
      "metadata": {
        "id": "a280bead-9a9a-4605-8954-e47d37cac2a6"
      },
      "source": [
        "Crear una array utilizando la lista anterior"
      ]
    },
    {
      "cell_type": "code",
      "execution_count": 4,
      "id": "2fc49c07-0660-44da-8fd0-c5f71fbf67d7",
      "metadata": {
        "colab": {
          "base_uri": "https://localhost:8080/"
        },
        "id": "2fc49c07-0660-44da-8fd0-c5f71fbf67d7",
        "outputId": "40b93799-f9f2-4dd1-87dd-5f7d76af1395"
      },
      "outputs": [
        {
          "output_type": "execute_result",
          "data": {
            "text/plain": [
              "array([31, 28, 29, 19])"
            ]
          },
          "metadata": {},
          "execution_count": 4
        }
      ],
      "source": [
        "arr = np.array(lista)\n",
        "arr"
      ]
    },
    {
      "cell_type": "markdown",
      "id": "a7f7692d-63e3-4688-bbda-9c5dc9340e0f",
      "metadata": {
        "id": "a7f7692d-63e3-4688-bbda-9c5dc9340e0f"
      },
      "source": [
        "__Ejercicio 3:__"
      ]
    },
    {
      "cell_type": "code",
      "execution_count": 5,
      "id": "4d0aa5ca-e154-4f9b-9b25-7c7f2695e06b",
      "metadata": {
        "id": "4d0aa5ca-e154-4f9b-9b25-7c7f2695e06b"
      },
      "outputs": [],
      "source": [
        "lista_2d=[[2,3,4],\n",
        "          [3,4,5],\n",
        "          [3,4,5],\n",
        "          [3,4,5]]"
      ]
    },
    {
      "cell_type": "markdown",
      "id": "d7c21cc3-407d-44ef-82a9-82733f2bffee",
      "metadata": {
        "id": "d7c21cc3-407d-44ef-82a9-82733f2bffee"
      },
      "source": [
        "Crear una array utilizando la lista bidimensional anterior"
      ]
    },
    {
      "cell_type": "code",
      "execution_count": 6,
      "id": "3aa7c127-4943-45f2-a5a3-3e9ef4cc7589",
      "metadata": {
        "colab": {
          "base_uri": "https://localhost:8080/"
        },
        "id": "3aa7c127-4943-45f2-a5a3-3e9ef4cc7589",
        "outputId": "3ec40bf0-4f2d-4571-d04a-a14945d9976b"
      },
      "outputs": [
        {
          "output_type": "execute_result",
          "data": {
            "text/plain": [
              "array([[2, 3, 4],\n",
              "       [3, 4, 5],\n",
              "       [3, 4, 5],\n",
              "       [3, 4, 5]])"
            ]
          },
          "metadata": {},
          "execution_count": 6
        }
      ],
      "source": [
        "arr_2d = np.array(lista_2d)\n",
        "arr_2d"
      ]
    },
    {
      "cell_type": "markdown",
      "id": "ef3847b6-eda7-4fd1-b115-3c240a2413a7",
      "metadata": {
        "id": "ef3847b6-eda7-4fd1-b115-3c240a2413a7"
      },
      "source": [
        "__Ejercicio 4:__"
      ]
    },
    {
      "cell_type": "markdown",
      "id": "7ebe38ea-eef2-49d6-b15e-a9ecb2a52b2c",
      "metadata": {
        "id": "7ebe38ea-eef2-49d6-b15e-a9ecb2a52b2c"
      },
      "source": [
        "Utilizar la propiedad shape para obtener la forma del ndarray anterior"
      ]
    },
    {
      "cell_type": "code",
      "execution_count": 7,
      "id": "15be0acf-6149-4104-a361-ac862e9e6620",
      "metadata": {
        "colab": {
          "base_uri": "https://localhost:8080/"
        },
        "id": "15be0acf-6149-4104-a361-ac862e9e6620",
        "outputId": "8ac4674a-9e0e-4f56-b888-bfce13cd4b55"
      },
      "outputs": [
        {
          "output_type": "execute_result",
          "data": {
            "text/plain": [
              "(4, 3)"
            ]
          },
          "metadata": {},
          "execution_count": 7
        }
      ],
      "source": [
        "arr_2d.shape"
      ]
    },
    {
      "cell_type": "markdown",
      "id": "4824638b-96e5-4754-be79-8c823f834420",
      "metadata": {
        "id": "4824638b-96e5-4754-be79-8c823f834420"
      },
      "source": [
        "Utilizar la propiedad ndim para obtener las dimensiones del ndarray anterior"
      ]
    },
    {
      "cell_type": "code",
      "execution_count": 8,
      "id": "6c2fad0b-cb86-439e-b4a7-7fd3edbba2c7",
      "metadata": {
        "colab": {
          "base_uri": "https://localhost:8080/"
        },
        "id": "6c2fad0b-cb86-439e-b4a7-7fd3edbba2c7",
        "outputId": "4fb58380-f5f6-4a79-b485-249edc7102e2"
      },
      "outputs": [
        {
          "output_type": "execute_result",
          "data": {
            "text/plain": [
              "2"
            ]
          },
          "metadata": {},
          "execution_count": 8
        }
      ],
      "source": [
        "arr_2d.ndim"
      ]
    },
    {
      "cell_type": "markdown",
      "id": "1e434bf5-ec3f-4c86-8e41-09fe3eb736a0",
      "metadata": {
        "id": "1e434bf5-ec3f-4c86-8e41-09fe3eb736a0"
      },
      "source": [
        "Utilizar la propiedad dtype para obtener el tipo de los datos en el ndarray anterior"
      ]
    },
    {
      "cell_type": "code",
      "execution_count": 9,
      "id": "69e66663-e400-4795-9f81-84978b1cad1f",
      "metadata": {
        "colab": {
          "base_uri": "https://localhost:8080/"
        },
        "id": "69e66663-e400-4795-9f81-84978b1cad1f",
        "outputId": "47b2739e-a27f-4140-9876-7cc1681d8cc9"
      },
      "outputs": [
        {
          "output_type": "execute_result",
          "data": {
            "text/plain": [
              "dtype('int64')"
            ]
          },
          "metadata": {},
          "execution_count": 9
        }
      ],
      "source": [
        "arr_2d.dtype"
      ]
    },
    {
      "cell_type": "markdown",
      "id": "184283c0-3789-48fc-bac0-d7cdf275bec4",
      "metadata": {
        "id": "184283c0-3789-48fc-bac0-d7cdf275bec4"
      },
      "source": [
        "Utilizar la propiedad size para obtener la cantidad total de datos en el ndarray anterior"
      ]
    },
    {
      "cell_type": "code",
      "execution_count": 10,
      "id": "a22fd4c0-43b7-4bee-b34e-99d0599aee2d",
      "metadata": {
        "colab": {
          "base_uri": "https://localhost:8080/"
        },
        "id": "a22fd4c0-43b7-4bee-b34e-99d0599aee2d",
        "outputId": "31361858-0055-497f-c59e-3ff6ad095e71"
      },
      "outputs": [
        {
          "output_type": "execute_result",
          "data": {
            "text/plain": [
              "12"
            ]
          },
          "metadata": {},
          "execution_count": 10
        }
      ],
      "source": [
        "arr_2d.size"
      ]
    },
    {
      "cell_type": "markdown",
      "id": "5dd95a43-7d3d-426a-9bd1-48e1bd3b2da9",
      "metadata": {
        "id": "5dd95a43-7d3d-426a-9bd1-48e1bd3b2da9"
      },
      "source": [
        "__Ejercicio 5:__"
      ]
    },
    {
      "cell_type": "markdown",
      "id": "761e91bc-f278-4380-ba5b-d05f9cbdec6f",
      "metadata": {
        "id": "761e91bc-f278-4380-ba5b-d05f9cbdec6f"
      },
      "source": [
        "Crear un ndarray utilizando la lista \"lista_2d\", el tipo de los datos debe ser \"int16\""
      ]
    },
    {
      "cell_type": "code",
      "execution_count": 11,
      "id": "94b41715-3d42-427e-a3fd-240487b0ea90",
      "metadata": {
        "id": "94b41715-3d42-427e-a3fd-240487b0ea90",
        "colab": {
          "base_uri": "https://localhost:8080/"
        },
        "outputId": "aaf1675c-fa98-4fcd-9eed-9e855540db05"
      },
      "outputs": [
        {
          "output_type": "execute_result",
          "data": {
            "text/plain": [
              "array([[2, 3, 4],\n",
              "       [3, 4, 5],\n",
              "       [3, 4, 5],\n",
              "       [3, 4, 5]])"
            ]
          },
          "metadata": {},
          "execution_count": 11
        }
      ],
      "source": [
        "array = np.array(lista_2d, dtype=int)\n",
        "array"
      ]
    },
    {
      "cell_type": "markdown",
      "id": "67a2d007-ddec-41df-8bb2-df4a51420fae",
      "metadata": {
        "id": "67a2d007-ddec-41df-8bb2-df4a51420fae"
      },
      "source": [
        "__Ejercicio 6:__"
      ]
    },
    {
      "cell_type": "markdown",
      "id": "95aebac0-6ef3-45de-a8a8-be4d7cb71d7c",
      "metadata": {
        "id": "95aebac0-6ef3-45de-a8a8-be4d7cb71d7c"
      },
      "source": [
        "Utilizar la función np.zeros para crear un ndarray con la forma 3x2"
      ]
    },
    {
      "cell_type": "code",
      "execution_count": 12,
      "id": "d2997bc4-ae45-4b4a-aa36-7329dc32b33e",
      "metadata": {
        "id": "d2997bc4-ae45-4b4a-aa36-7329dc32b33e",
        "colab": {
          "base_uri": "https://localhost:8080/"
        },
        "outputId": "ec59b47e-de16-4db5-bf5a-ffedd1e3c973"
      },
      "outputs": [
        {
          "output_type": "execute_result",
          "data": {
            "text/plain": [
              "array([[0., 0.],\n",
              "       [0., 0.],\n",
              "       [0., 0.]])"
            ]
          },
          "metadata": {},
          "execution_count": 12
        }
      ],
      "source": [
        "array = np.zeros((3,2))\n",
        "array"
      ]
    },
    {
      "cell_type": "markdown",
      "id": "61a92a21-f2ee-4b7d-bea8-24f7bec015c3",
      "metadata": {
        "id": "61a92a21-f2ee-4b7d-bea8-24f7bec015c3"
      },
      "source": [
        "Utilizar la función np.ones para crear un ndarray con la forma 3x3"
      ]
    },
    {
      "cell_type": "code",
      "execution_count": 13,
      "id": "87db7972-fda2-4858-a456-6670825c6479",
      "metadata": {
        "id": "87db7972-fda2-4858-a456-6670825c6479",
        "colab": {
          "base_uri": "https://localhost:8080/"
        },
        "outputId": "d1545403-62a0-4fca-e216-a748c9eb5974"
      },
      "outputs": [
        {
          "output_type": "execute_result",
          "data": {
            "text/plain": [
              "array([[1., 1., 1.],\n",
              "       [1., 1., 1.],\n",
              "       [1., 1., 1.]])"
            ]
          },
          "metadata": {},
          "execution_count": 13
        }
      ],
      "source": [
        "array = np.ones((3,3))\n",
        "array"
      ]
    },
    {
      "cell_type": "markdown",
      "id": "b3956de0-7f1c-4424-9a95-f5c38f4ff01f",
      "metadata": {
        "id": "b3956de0-7f1c-4424-9a95-f5c38f4ff01f"
      },
      "source": [
        "Utilizar la función np.empty para crear un ndarray con la forma 2x4"
      ]
    },
    {
      "cell_type": "code",
      "execution_count": 14,
      "id": "ea688cdb-6eca-43ed-9415-a11289356396",
      "metadata": {
        "id": "ea688cdb-6eca-43ed-9415-a11289356396",
        "colab": {
          "base_uri": "https://localhost:8080/"
        },
        "outputId": "8c3a4bd1-f6aa-4bbf-e9e7-3b79fed8df32"
      },
      "outputs": [
        {
          "output_type": "execute_result",
          "data": {
            "text/plain": [
              "array([[4.75509895e-310, 0.00000000e+000, 0.00000000e+000,\n",
              "        0.00000000e+000],\n",
              "       [0.00000000e+000, 0.00000000e+000, 0.00000000e+000,\n",
              "        0.00000000e+000]])"
            ]
          },
          "metadata": {},
          "execution_count": 14
        }
      ],
      "source": [
        "array = np.empty((2,4))\n",
        "array"
      ]
    },
    {
      "cell_type": "markdown",
      "id": "d97f5126-5e89-4e84-bff8-8ab2922ebccb",
      "metadata": {
        "id": "d97f5126-5e89-4e84-bff8-8ab2922ebccb"
      },
      "source": [
        "__Ejercicio 7:__"
      ]
    },
    {
      "cell_type": "markdown",
      "id": "9b4f9ead-3891-4b57-b174-b601dc0683bf",
      "metadata": {
        "id": "9b4f9ead-3891-4b57-b174-b601dc0683bf"
      },
      "source": [
        "Crear un ndarray de 1 dimensión con los valores del 0 al 9 (Ej. [1,2,3,...])"
      ]
    },
    {
      "cell_type": "code",
      "execution_count": 15,
      "id": "8cdb9077-e8b1-4c35-ad3a-4ec715e79112",
      "metadata": {
        "id": "8cdb9077-e8b1-4c35-ad3a-4ec715e79112",
        "colab": {
          "base_uri": "https://localhost:8080/"
        },
        "outputId": "96a5700b-faf3-4514-9f7e-2f6b6817573a"
      },
      "outputs": [
        {
          "output_type": "execute_result",
          "data": {
            "text/plain": [
              "array([0, 1, 2, 3, 4, 5, 6, 7, 8, 9])"
            ]
          },
          "metadata": {},
          "execution_count": 15
        }
      ],
      "source": [
        "array = np.arange(10)\n",
        "array"
      ]
    },
    {
      "cell_type": "markdown",
      "id": "57be4fb9-0969-4a92-a278-387d7595c3fc",
      "metadata": {
        "id": "57be4fb9-0969-4a92-a278-387d7595c3fc"
      },
      "source": [
        "Crear un ndarray de 2 dimensión con la forma 2x5,los valores deben ser del 0 al 9 (Ej. [[0,1,2,3,4],[5,6,..]])"
      ]
    },
    {
      "cell_type": "code",
      "execution_count": 16,
      "id": "79a345a8-b779-415d-b22e-e87d75b1672f",
      "metadata": {
        "id": "79a345a8-b779-415d-b22e-e87d75b1672f",
        "colab": {
          "base_uri": "https://localhost:8080/"
        },
        "outputId": "c02f9bc6-e2ca-44c1-955d-c42aa09a75f1"
      },
      "outputs": [
        {
          "output_type": "execute_result",
          "data": {
            "text/plain": [
              "array([[0, 1, 2, 3, 4],\n",
              "       [5, 6, 7, 8, 9]])"
            ]
          },
          "metadata": {},
          "execution_count": 16
        }
      ],
      "source": [
        "array = np.arange(10).reshape(2,5)\n",
        "array"
      ]
    },
    {
      "cell_type": "markdown",
      "id": "31da554b-5b01-4c72-a240-31daba880c19",
      "metadata": {
        "id": "31da554b-5b01-4c72-a240-31daba880c19"
      },
      "source": [
        "__Ejercicio 8:__"
      ]
    },
    {
      "cell_type": "markdown",
      "id": "2f5a7f25-48d2-4171-9b5f-3dd956e57e50",
      "metadata": {
        "id": "2f5a7f25-48d2-4171-9b5f-3dd956e57e50"
      },
      "source": [
        "Utilizar np.arange para crear un ndarray con los valores del 10 al 20, deben ir de 2 en 2 (Ej. [10,12,..])"
      ]
    },
    {
      "cell_type": "code",
      "execution_count": 17,
      "id": "c05f65d7-55df-4bb3-862e-7eab91a3d3d9",
      "metadata": {
        "id": "c05f65d7-55df-4bb3-862e-7eab91a3d3d9",
        "colab": {
          "base_uri": "https://localhost:8080/"
        },
        "outputId": "a3295f4a-f93f-4f15-ada4-8e470e8405fa"
      },
      "outputs": [
        {
          "output_type": "execute_result",
          "data": {
            "text/plain": [
              "array([10, 12, 14, 16, 18, 20])"
            ]
          },
          "metadata": {},
          "execution_count": 17
        }
      ],
      "source": [
        "array = np.arange(10,21,2)\n",
        "array"
      ]
    },
    {
      "cell_type": "markdown",
      "id": "a42828a6-38db-46fd-8fa8-301a8838c627",
      "metadata": {
        "id": "a42828a6-38db-46fd-8fa8-301a8838c627"
      },
      "source": [
        "__Ejercicio 9:__"
      ]
    },
    {
      "cell_type": "markdown",
      "id": "fd702fb3-3cd9-45d6-8032-57bbec0a51b1",
      "metadata": {
        "id": "fd702fb3-3cd9-45d6-8032-57bbec0a51b1"
      },
      "source": [
        "Utilizar np.linspace para crear un ndarray con los valores enteros entre el 10 al 20"
      ]
    },
    {
      "cell_type": "code",
      "execution_count": 18,
      "id": "85cc30af-250f-4ab8-a7cf-eed247a0dea9",
      "metadata": {
        "id": "85cc30af-250f-4ab8-a7cf-eed247a0dea9",
        "colab": {
          "base_uri": "https://localhost:8080/"
        },
        "outputId": "00f5079e-59f4-4521-8269-d420f7b8f5e4"
      },
      "outputs": [
        {
          "output_type": "execute_result",
          "data": {
            "text/plain": [
              "array([10., 11., 12., 13., 14., 15., 16., 17., 18., 19., 20.])"
            ]
          },
          "metadata": {},
          "execution_count": 18
        }
      ],
      "source": [
        "array = np.linspace(10,20,11)\n",
        "array"
      ]
    },
    {
      "cell_type": "markdown",
      "id": "d04b6ccf-5d9b-4769-a3a2-d65d93e644d4",
      "metadata": {
        "id": "d04b6ccf-5d9b-4769-a3a2-d65d93e644d4"
      },
      "source": [
        "__Ejercicio 10:__"
      ]
    },
    {
      "cell_type": "markdown",
      "id": "a5624bd4-06c2-4959-8e10-d1b8e0227705",
      "metadata": {
        "id": "a5624bd4-06c2-4959-8e10-d1b8e0227705"
      },
      "source": [
        "Utilizar np.linspace para crear un ndarray  con 100 números entre el 0 y 2$\\pi$"
      ]
    },
    {
      "cell_type": "code",
      "execution_count": 19,
      "id": "aa9439dc-b364-465c-b260-ca47fd9fcec4",
      "metadata": {
        "id": "aa9439dc-b364-465c-b260-ca47fd9fcec4",
        "colab": {
          "base_uri": "https://localhost:8080/"
        },
        "outputId": "722da4ef-1a59-4835-fbd9-bdcf267196d6"
      },
      "outputs": [
        {
          "output_type": "execute_result",
          "data": {
            "text/plain": [
              "array([0.        , 0.06346652, 0.12693304, 0.19039955, 0.25386607,\n",
              "       0.31733259, 0.38079911, 0.44426563, 0.50773215, 0.57119866,\n",
              "       0.63466518, 0.6981317 , 0.76159822, 0.82506474, 0.88853126,\n",
              "       0.95199777, 1.01546429, 1.07893081, 1.14239733, 1.20586385,\n",
              "       1.26933037, 1.33279688, 1.3962634 , 1.45972992, 1.52319644,\n",
              "       1.58666296, 1.65012947, 1.71359599, 1.77706251, 1.84052903,\n",
              "       1.90399555, 1.96746207, 2.03092858, 2.0943951 , 2.15786162,\n",
              "       2.22132814, 2.28479466, 2.34826118, 2.41172769, 2.47519421,\n",
              "       2.53866073, 2.60212725, 2.66559377, 2.72906028, 2.7925268 ,\n",
              "       2.85599332, 2.91945984, 2.98292636, 3.04639288, 3.10985939,\n",
              "       3.17332591, 3.23679243, 3.30025895, 3.36372547, 3.42719199,\n",
              "       3.4906585 , 3.55412502, 3.61759154, 3.68105806, 3.74452458,\n",
              "       3.8079911 , 3.87145761, 3.93492413, 3.99839065, 4.06185717,\n",
              "       4.12532369, 4.1887902 , 4.25225672, 4.31572324, 4.37918976,\n",
              "       4.44265628, 4.5061228 , 4.56958931, 4.63305583, 4.69652235,\n",
              "       4.75998887, 4.82345539, 4.88692191, 4.95038842, 5.01385494,\n",
              "       5.07732146, 5.14078798, 5.2042545 , 5.26772102, 5.33118753,\n",
              "       5.39465405, 5.45812057, 5.52158709, 5.58505361, 5.64852012,\n",
              "       5.71198664, 5.77545316, 5.83891968, 5.9023862 , 5.96585272,\n",
              "       6.02931923, 6.09278575, 6.15625227, 6.21971879, 6.28318531])"
            ]
          },
          "metadata": {},
          "execution_count": 19
        }
      ],
      "source": [
        "from  numpy import pi\n",
        "array = np.linspace(0,2*pi,100)\n",
        "array"
      ]
    },
    {
      "cell_type": "markdown",
      "id": "22b71ecd-a48f-47a5-8fb3-c53384a557b6",
      "metadata": {
        "id": "22b71ecd-a48f-47a5-8fb3-c53384a557b6"
      },
      "source": [
        "Utilizar np.sin y np.cos para obtener los valores de seno y coseno en los puntos del array anterior"
      ]
    },
    {
      "cell_type": "code",
      "execution_count": 20,
      "id": "691abc23-2c53-4e71-8feb-899e067166d9",
      "metadata": {
        "id": "691abc23-2c53-4e71-8feb-899e067166d9"
      },
      "outputs": [],
      "source": [
        "seno = np.sin(array)\n",
        "coseno = np.cos(array)"
      ]
    },
    {
      "cell_type": "markdown",
      "id": "bc933a1f-5f84-4e0e-bfa9-13d682e74779",
      "metadata": {
        "id": "bc933a1f-5f84-4e0e-bfa9-13d682e74779"
      },
      "source": [
        "Utilizar plt.plot para graficar un círculo con los datos de seno y coseno"
      ]
    },
    {
      "cell_type": "code",
      "execution_count": 21,
      "id": "67c506aa-ba33-4658-ab11-295539ffdad2",
      "metadata": {
        "id": "67c506aa-ba33-4658-ab11-295539ffdad2",
        "colab": {
          "base_uri": "https://localhost:8080/",
          "height": 430
        },
        "outputId": "0deb69ec-efb0-4ab4-9cc7-9a513f07d95c"
      },
      "outputs": [
        {
          "output_type": "display_data",
          "data": {
            "text/plain": [
              "<Figure size 640x480 with 1 Axes>"
            ],
            "image/png": "[encoded data removed]"
          },
          "metadata": {}
        }
      ],
      "source": [
        "plt.plot(seno,coseno)\n",
        "plt.show()"
      ]
    },
    {
      "cell_type": "markdown",
      "id": "155bbcd6-88d5-4cdc-9a05-c50f26f5187f",
      "metadata": {
        "id": "155bbcd6-88d5-4cdc-9a05-c50f26f5187f"
      },
      "source": [
        "__Ejercicio 11:__"
      ]
    },
    {
      "cell_type": "markdown",
      "id": "c0b81a7c-aa51-4400-9527-130a5bbcc8d5",
      "metadata": {
        "id": "c0b81a7c-aa51-4400-9527-130a5bbcc8d5"
      },
      "source": [
        "Utilizar plt.plot para graficar los valores de seno y coseno por separado"
      ]
    },
    {
      "cell_type": "code",
      "execution_count": 22,
      "id": "6e91a06c-c9ec-4600-a220-1c3e75668def",
      "metadata": {
        "id": "6e91a06c-c9ec-4600-a220-1c3e75668def",
        "colab": {
          "base_uri": "https://localhost:8080/",
          "height": 430
        },
        "outputId": "481071b7-c282-416f-fe91-5db0118a7d57"
      },
      "outputs": [
        {
          "output_type": "display_data",
          "data": {
            "text/plain": [
              "<Figure size 640x480 with 1 Axes>"
            ],
            "image/png": "[encoded data removed]"
          },
          "metadata": {}
        }
      ],
      "source": [
        "plt.plot(seno)\n",
        "plt.plot(coseno)\n",
        "plt.show()"
      ]
    },
    {
      "cell_type": "markdown",
      "id": "8bd317ad-9cae-4dff-a928-726ebda177bf",
      "metadata": {
        "id": "8bd317ad-9cae-4dff-a928-726ebda177bf"
      },
      "source": [
        "__Ejercicio 12:__"
      ]
    },
    {
      "cell_type": "code",
      "execution_count": 23,
      "id": "e3319954-862f-4bdf-998e-d5f24781a40d",
      "metadata": {
        "id": "e3319954-862f-4bdf-998e-d5f24781a40d",
        "colab": {
          "base_uri": "https://localhost:8080/"
        },
        "outputId": "477c53d7-6c54-4198-9b46-3e101b28f514"
      },
      "outputs": [
        {
          "output_type": "stream",
          "name": "stdout",
          "text": [
            "[10. 12. 14. 16. 18. 20.] [ 5.  9. 13. 17. 21. 25.]\n"
          ]
        }
      ],
      "source": [
        "a= np.linspace(10,20,6)\n",
        "b= np.linspace(5,25,6)\n",
        "print(a,b)"
      ]
    },
    {
      "cell_type": "markdown",
      "id": "03a56414-a7b0-4dff-a351-11af200156ee",
      "metadata": {
        "id": "03a56414-a7b0-4dff-a351-11af200156ee"
      },
      "source": [
        "Sumar los valores de los ndarray \"a\" y \"b\""
      ]
    },
    {
      "cell_type": "code",
      "execution_count": 24,
      "id": "98e5e936-d60c-4d71-a750-2f9a2f8d21bf",
      "metadata": {
        "id": "98e5e936-d60c-4d71-a750-2f9a2f8d21bf",
        "colab": {
          "base_uri": "https://localhost:8080/"
        },
        "outputId": "46b85b29-5068-4cd3-aa8f-2a69f693fd46"
      },
      "outputs": [
        {
          "output_type": "execute_result",
          "data": {
            "text/plain": [
              "array([15., 21., 27., 33., 39., 45.])"
            ]
          },
          "metadata": {},
          "execution_count": 24
        }
      ],
      "source": [
        "a + b"
      ]
    },
    {
      "cell_type": "markdown",
      "id": "fc20ad08-c098-4593-8b9c-dbcd87937c56",
      "metadata": {
        "id": "fc20ad08-c098-4593-8b9c-dbcd87937c56"
      },
      "source": [
        "Unir los ndarray \"a\" y \"b\", guardarlo en la variable c"
      ]
    },
    {
      "cell_type": "code",
      "execution_count": 25,
      "id": "eac3bddb-1e5e-4357-9bc6-61637c2c6d26",
      "metadata": {
        "id": "eac3bddb-1e5e-4357-9bc6-61637c2c6d26",
        "colab": {
          "base_uri": "https://localhost:8080/"
        },
        "outputId": "43bdd20e-dde5-4cb4-f656-56ccba147264"
      },
      "outputs": [
        {
          "output_type": "execute_result",
          "data": {
            "text/plain": [
              "array([10., 12., 14., 16., 18., 20.,  5.,  9., 13., 17., 21., 25.])"
            ]
          },
          "metadata": {},
          "execution_count": 25
        }
      ],
      "source": [
        "c = np.concatenate((a,b))\n",
        "c"
      ]
    },
    {
      "cell_type": "markdown",
      "id": "378dd0d9-1363-4dfb-ba87-674921eb979e",
      "metadata": {
        "id": "378dd0d9-1363-4dfb-ba87-674921eb979e"
      },
      "source": [
        "Ordenar los valores del ndarray c"
      ]
    },
    {
      "cell_type": "code",
      "execution_count": 26,
      "id": "5dc18067-228d-4596-b481-32f2bfd1c21e",
      "metadata": {
        "id": "5dc18067-228d-4596-b481-32f2bfd1c21e",
        "colab": {
          "base_uri": "https://localhost:8080/"
        },
        "outputId": "0e552e8d-c27e-4c7a-93d6-36e2621a1ff8"
      },
      "outputs": [
        {
          "output_type": "execute_result",
          "data": {
            "text/plain": [
              "array([ 5.,  9., 10., 12., 13., 14., 16., 17., 18., 20., 21., 25.])"
            ]
          },
          "metadata": {},
          "execution_count": 26
        }
      ],
      "source": [
        "c.sort()\n",
        "c"
      ]
    },
    {
      "cell_type": "markdown",
      "id": "7b311d70-aedb-42c5-a1d6-690d0a9919b3",
      "metadata": {
        "id": "7b311d70-aedb-42c5-a1d6-690d0a9919b3"
      },
      "source": [
        "__Ejercicio 13:__"
      ]
    },
    {
      "cell_type": "markdown",
      "id": "4965dab5-9b59-40b7-8246-4cf089550b74",
      "metadata": {
        "id": "4965dab5-9b59-40b7-8246-4cf089550b74"
      },
      "source": [
        "Utilizar rg.random para generar un ndarray de 1000 números aleatorios entre el 0 y 1"
      ]
    },
    {
      "cell_type": "code",
      "execution_count": 27,
      "id": "336bd3a7-b45d-4a1e-bcce-74910ec6b328",
      "metadata": {
        "id": "336bd3a7-b45d-4a1e-bcce-74910ec6b328",
        "colab": {
          "base_uri": "https://localhost:8080/"
        },
        "outputId": "879c38d6-5dfb-49f0-e640-f5bd63225a45"
      },
      "outputs": [
        {
          "output_type": "execute_result",
          "data": {
            "text/plain": [
              "array([0.26161213, 0.29849114, 0.81422574, 0.09191594, 0.60010053,\n",
              "       0.72856053, 0.18790107, 0.05514663, 0.27496937, 0.65743301,\n",
              "       0.56226566, 0.15006226, 0.43263079, 0.6692973 , 0.42278467,\n",
              "       0.6331844 , 0.96743595, 0.68306482, 0.39162483, 0.18725257,\n",
              "       0.34596067, 0.51106597, 0.89120941, 0.77556394, 0.3181466 ,\n",
              "       0.9242169 , 0.47090989, 0.69375884, 0.10720731, 0.10454356,\n",
              "       0.20190745, 0.88444967, 0.67981146, 0.84923632, 0.64443627,\n",
              "       0.4065424 , 0.51657819, 0.59344352, 0.86211798, 0.43818617,\n",
              "       0.89224011, 0.61371694, 0.82935613, 0.49805605, 0.69251813,\n",
              "       0.33902537, 0.5228285 , 0.21622339, 0.1007036 , 0.03860413,\n",
              "       0.70194948, 0.45643062, 0.89773415, 0.8351832 , 0.38509513,\n",
              "       0.97367877, 0.59206201, 0.76588331, 0.40719436, 0.19616991,\n",
              "       0.17177702, 0.18120623, 0.60380552, 0.11263286, 0.01991075,\n",
              "       0.83299696, 0.09941112, 0.45058454, 0.48849857, 0.62027241,\n",
              "       0.50401448, 0.93734314, 0.75039659, 0.5744665 , 0.61727214,\n",
              "       0.50655149, 0.96476181, 0.22662606, 0.68902714, 0.55509668,\n",
              "       0.04201179, 0.29615   , 0.92716694, 0.78456486, 0.01283109,\n",
              "       0.29662633, 0.00980535, 0.82746694, 0.11036759, 0.05745518,\n",
              "       0.98188334, 0.44586988, 0.318393  , 0.04901339, 0.38959528,\n",
              "       0.36603906, 0.52348079, 0.00678547, 0.14796288, 0.20988653,\n",
              "       0.44050452, 0.30230337, 0.61332768, 0.28543261, 0.90963301,\n",
              "       0.96186996, 0.05943487, 0.20905972, 0.56302318, 0.77066023,\n",
              "       0.06402423, 0.18480268, 0.45672012, 0.66869076, 0.90332793,\n",
              "       0.86697296, 0.79375542, 0.05273214, 0.97663649, 0.61462795,\n",
              "       0.08611582, 0.25492878, 0.62075408, 0.38564012, 0.44660348,\n",
              "       0.80458507, 0.82403098, 0.54678698, 0.7924511 , 0.40600493,\n",
              "       0.97448184, 0.60515917, 0.96769798, 0.04398769, 0.88269265,\n",
              "       0.55937719, 0.71363903, 0.19259498, 0.54869138, 0.28927792,\n",
              "       0.10548048, 0.00318677, 0.90684002, 0.67090432, 0.20502173,\n",
              "       0.25781868, 0.46559431, 0.81828725, 0.1176256 , 0.96778483,\n",
              "       0.94391077, 0.2446601 , 0.64078186, 0.36009753, 0.69732334,\n",
              "       0.0869161 , 0.46996588, 0.5884908 , 0.62647574, 0.69279547,\n",
              "       0.89138137, 0.24125021, 0.15319432, 0.39060694, 0.56882815,\n",
              "       0.96052876, 0.71050559, 0.73844255, 0.97271705, 0.26774316,\n",
              "       0.25946163, 0.42254084, 0.29542001, 0.65110339, 0.95171392,\n",
              "       0.15351149, 0.51794768, 0.6775781 , 0.49317767, 0.91374384,\n",
              "       0.73689799, 0.8821768 , 0.11176499, 0.1957635 , 0.06570423,\n",
              "       0.8293195 , 0.96281866, 0.01399102, 0.78925364, 0.7278312 ,\n",
              "       0.90818679, 0.27038547, 0.71477718, 0.23742288, 0.0760332 ,\n",
              "       0.74520406, 0.04221297, 0.69959446, 0.28346246, 0.4874234 ,\n",
              "       0.89153315, 0.24340788, 0.46832438, 0.35504945, 0.19038089,\n",
              "       0.47365147, 0.18163033, 0.79900749, 0.61482164, 0.28313075,\n",
              "       0.973105  , 0.34527684, 0.67125666, 0.73322373, 0.26522639,\n",
              "       0.0117638 , 0.89261588, 0.95641651, 0.17022808, 0.15360521,\n",
              "       0.43266742, 0.59756957, 0.98898263, 0.96349612, 0.98785284,\n",
              "       0.24556942, 0.5988832 , 0.43586914, 0.2314023 , 0.06537737,\n",
              "       0.16872837, 0.35845173, 0.08802173, 0.15073899, 0.04465149,\n",
              "       0.62290627, 0.49271648, 0.243553  , 0.52634874, 0.42444678,\n",
              "       0.65915322, 0.93266722, 0.35329211, 0.64515153, 0.21891674,\n",
              "       0.9398994 , 0.61769248, 0.15874744, 0.25705106, 0.15915136,\n",
              "       0.17913403, 0.30679886, 0.82307044, 0.4570588 , 0.27716997,\n",
              "       0.41907586, 0.26739823, 0.73368242, 0.05878125, 0.28922856,\n",
              "       0.32324609, 0.18151952, 0.73815578, 0.18024736, 0.30048134,\n",
              "       0.05647656, 0.75558564, 0.36386302, 0.65592839, 0.2172361 ,\n",
              "       0.02180019, 0.32241816, 0.77906385, 0.83744578, 0.34883976,\n",
              "       0.84694078, 0.05034893, 0.52211454, 0.25742242, 0.43907769,\n",
              "       0.22164182, 0.89356662, 0.30217467, 0.94529193, 0.10909018,\n",
              "       0.42983101, 0.44344493, 0.70943479, 0.34502227, 0.49249496,\n",
              "       0.07044906, 0.31103146, 0.72498432, 0.10591139, 0.46253567,\n",
              "       0.23672695, 0.1654845 , 0.12131551, 0.81386593, 0.68665702,\n",
              "       0.3794561 , 0.39164094, 0.72845748, 0.60395615, 0.91601526,\n",
              "       0.91941369, 0.4821747 , 0.65913526, 0.54466771, 0.31028554,\n",
              "       0.45351342, 0.72117586, 0.55268215, 0.63240637, 0.4870733 ,\n",
              "       0.95297764, 0.77646145, 0.13078503, 0.81410951, 0.91757758,\n",
              "       0.81665819, 0.34310825, 0.367909  , 0.24321437, 0.05570471,\n",
              "       0.47206135, 0.85048018, 0.76881159, 0.6621989 , 0.84719067,\n",
              "       0.65911387, 0.22333342, 0.80315508, 0.36752   , 0.89006197,\n",
              "       0.32648253, 0.09190195, 0.7298982 , 0.10764675, 0.87021443,\n",
              "       0.41192355, 0.7801212 , 0.05256846, 0.54383776, 0.67689404,\n",
              "       0.12950513, 0.60839782, 0.14302262, 0.30398913, 0.36528521,\n",
              "       0.61958537, 0.13011884, 0.18482566, 0.78125659, 0.71587564,\n",
              "       0.45420567, 0.28200302, 0.69220464, 0.4678444 , 0.31151967,\n",
              "       0.87468323, 0.20184032, 0.80428285, 0.61781791, 0.64598013,\n",
              "       0.68215245, 0.74827104, 0.8809471 , 0.92058385, 0.25548905,\n",
              "       0.1638862 , 0.89637408, 0.20382929, 0.22196494, 0.80525699,\n",
              "       0.96611059, 0.84454535, 0.51673039, 0.37560037, 0.98855173,\n",
              "       0.73606888, 0.62909352, 0.01112877, 0.19519178, 0.01349177,\n",
              "       0.90704041, 0.23646561, 0.17102131, 0.58256772, 0.20310186,\n",
              "       0.54653209, 0.9497917 , 0.86390869, 0.24512753, 0.91617764,\n",
              "       0.39939044, 0.52303708, 0.32497268, 0.99995809, 0.30707346,\n",
              "       0.737276  , 0.61989604, 0.68892332, 0.10400655, 0.53678881,\n",
              "       0.99704736, 0.56314343, 0.19679411, 0.05257312, 0.32995251,\n",
              "       0.74561653, 0.02481358, 0.04863821, 0.65700802, 0.88186714,\n",
              "       0.43874838, 0.62430676, 0.25726181, 0.27256318, 0.47497741,\n",
              "       0.21906648, 0.45387996, 0.14838181, 0.92397493, 0.64795107,\n",
              "       0.09418871, 0.19310735, 0.82915273, 0.37240304, 0.26010407,\n",
              "       0.02331807, 0.67521685, 0.57033139, 0.84039444, 0.16973045,\n",
              "       0.75229518, 0.82706877, 0.82412116, 0.74636475, 0.44236588,\n",
              "       0.04740683, 0.64428142, 0.02569125, 0.08584249, 0.4091233 ,\n",
              "       0.12077795, 0.45198276, 0.8510432 , 0.17415722, 0.79815495,\n",
              "       0.99756073, 0.037283  , 0.42314941, 0.70754131, 0.73168353,\n",
              "       0.27990975, 0.80902173, 0.37128152, 0.20075243, 0.51783179,\n",
              "       0.61247725, 0.83773825, 0.66398121, 0.08311997, 0.57485685,\n",
              "       0.34414603, 0.70504238, 0.04506066, 0.65735746, 0.79157132,\n",
              "       0.0401567 , 0.01536072, 0.89189148, 0.89542364, 0.17658518,\n",
              "       0.92245198, 0.40661635, 0.5190463 , 0.47087198, 0.33500287,\n",
              "       0.88424856, 0.61057621, 0.93247209, 0.62207593, 0.92485838,\n",
              "       0.5152196 , 0.47489401, 0.57131101, 0.00591919, 0.76764455,\n",
              "       0.13961698, 0.94396252, 0.04429511, 0.7081858 , 0.76858554,\n",
              "       0.54163768, 0.09575644, 0.81150338, 0.32121682, 0.28797286,\n",
              "       0.69238515, 0.97182871, 0.09614731, 0.43627545, 0.67334389,\n",
              "       0.2769218 , 0.92499474, 0.6027983 , 0.0756099 , 0.15476542,\n",
              "       0.14325491, 0.45600458, 0.91025897, 0.11228428, 0.15129167,\n",
              "       0.21172574, 0.57309136, 0.43021384, 0.41830465, 0.144937  ,\n",
              "       0.82428303, 0.47944939, 0.86572777, 0.03011478, 0.45770009,\n",
              "       0.3684166 , 0.84131338, 0.69214217, 0.52092413, 0.16124838,\n",
              "       0.68259365, 0.89597382, 0.77662201, 0.96711665, 0.59131801,\n",
              "       0.3137366 , 0.22100306, 0.79934162, 0.81183764, 0.63473214,\n",
              "       0.78207289, 0.4859756 , 0.85153847, 0.69469176, 0.24195175,\n",
              "       0.587547  , 0.65613946, 0.20283872, 0.93577899, 0.80555036,\n",
              "       0.14526105, 0.21989445, 0.0021272 , 0.9394023 , 0.17436271,\n",
              "       0.83381308, 0.51160446, 0.05711615, 0.21142548, 0.25771204,\n",
              "       0.76435562, 0.36764731, 0.14193928, 0.94634387, 0.51451938,\n",
              "       0.0665885 , 0.97299941, 0.67532809, 0.44104229, 0.14572561,\n",
              "       0.69336859, 0.09698163, 0.93923895, 0.75150755, 0.71313401,\n",
              "       0.770281  , 0.86378313, 0.4689278 , 0.81151346, 0.11017816,\n",
              "       0.70036622, 0.75115026, 0.21138699, 0.11133799, 0.91681299,\n",
              "       0.89151201, 0.10992255, 0.58934796, 0.18078792, 0.20470232,\n",
              "       0.92919233, 0.6627969 , 0.7584632 , 0.28213424, 0.77581363,\n",
              "       0.66935946, 0.34626693, 0.49623646, 0.24907852, 0.59450206,\n",
              "       0.18694388, 0.44866577, 0.85532659, 0.65784283, 0.60224058,\n",
              "       0.1119182 , 0.82168075, 0.61953581, 0.94839913, 0.93377553,\n",
              "       0.93179895, 0.53442176, 0.76969508, 0.10163128, 0.04474598,\n",
              "       0.78629822, 0.67325024, 0.94701235, 0.30439726, 0.49499616,\n",
              "       0.78672871, 0.60897904, 0.84850315, 0.39472534, 0.84516247,\n",
              "       0.86129733, 0.90298399, 0.39794645, 0.90827594, 0.30910327,\n",
              "       0.5939051 , 0.97993049, 0.64448812, 0.59241674, 0.36098745,\n",
              "       0.51360948, 0.49059894, 0.67758551, 0.53984254, 0.31843589,\n",
              "       0.19081465, 0.98732843, 0.61934903, 0.17313969, 0.33795313,\n",
              "       0.65016206, 0.23861847, 0.8953391 , 0.54052343, 0.68086001,\n",
              "       0.66350032, 0.16174409, 0.9321474 , 0.84578276, 0.14598698,\n",
              "       0.56956286, 0.5279328 , 0.30958655, 0.3752215 , 0.25919392,\n",
              "       0.63134325, 0.42862469, 0.10042342, 0.22717449, 0.15154658,\n",
              "       0.6294987 , 0.55420062, 0.39253385, 0.54715822, 0.62880705,\n",
              "       0.21650102, 0.05562417, 0.96215879, 0.18551305, 0.24193546,\n",
              "       0.70420057, 0.98581611, 0.12358773, 0.40240606, 0.85582478,\n",
              "       0.08491591, 0.25033644, 0.61371778, 0.82923206, 0.10263636,\n",
              "       0.41635547, 0.59213171, 0.54705089, 0.53554141, 0.99301659,\n",
              "       0.98411915, 0.21030714, 0.25564014, 0.40004198, 0.10096844,\n",
              "       0.14637315, 0.56501523, 0.9869442 , 0.29378302, 0.19845887,\n",
              "       0.61651994, 0.29750548, 0.01359419, 0.09370409, 0.87775262,\n",
              "       0.10872602, 0.64141413, 0.41871556, 0.76948405, 0.50913604,\n",
              "       0.23089804, 0.21116944, 0.23524108, 0.23371029, 0.25082029,\n",
              "       0.29936638, 0.59811942, 0.52777106, 0.06871761, 0.42072396,\n",
              "       0.92998013, 0.93959585, 0.31967223, 0.15554033, 0.29276942,\n",
              "       0.13267831, 0.25856908, 0.92479562, 0.87708237, 0.45226507,\n",
              "       0.5497937 , 0.70061621, 0.70132227, 0.69365893, 0.73606297,\n",
              "       0.5909845 , 0.13294688, 0.68692783, 0.66894323, 0.16234668,\n",
              "       0.19496082, 0.63657494, 0.38583867, 0.81082634, 0.27719726,\n",
              "       0.66617906, 0.61488419, 0.11056069, 0.27843425, 0.35345639,\n",
              "       0.30194219, 0.09099549, 0.23550291, 0.53721973, 0.22607817,\n",
              "       0.63579054, 0.41503913, 0.45636295, 0.20697351, 0.78651879,\n",
              "       0.07745509, 0.94440349, 0.58934317, 0.94425135, 0.5492193 ,\n",
              "       0.35159908, 0.36985564, 0.92930105, 0.52087061, 0.39438049,\n",
              "       0.15598451, 0.15174028, 0.4159864 , 0.45203882, 0.80422819,\n",
              "       0.1216879 , 0.45411715, 0.13300579, 0.2539561 , 0.49312825,\n",
              "       0.87691588, 0.13230636, 0.17424819, 0.70619961, 0.52721846,\n",
              "       0.087695  , 0.68100361, 0.95834903, 0.73825487, 0.9964816 ,\n",
              "       0.74279154, 0.3289304 , 0.80034595, 0.56787535, 0.09133995,\n",
              "       0.36243271, 0.9462756 , 0.65492738, 0.36991639, 0.70850435,\n",
              "       0.68315782, 0.15832343, 0.46072496, 0.80586212, 0.11635039,\n",
              "       0.54763839, 0.11886073, 0.2748959 , 0.7664542 , 0.3576982 ,\n",
              "       0.82241602, 0.72611174, 0.63568696, 0.1503833 , 0.45219568,\n",
              "       0.87827864, 0.63267066, 0.06868851, 0.5020887 , 0.46688802,\n",
              "       0.48721682, 0.41454647, 0.81367542, 0.53227498, 0.85831323,\n",
              "       0.95351183, 0.895208  , 0.76981454, 0.02147006, 0.00177836,\n",
              "       0.17154903, 0.51715473, 0.29937142, 0.1322176 , 0.92680632,\n",
              "       0.42984618, 0.19876075, 0.51155671, 0.98164917, 0.72294483,\n",
              "       0.92461748, 0.11612272, 0.74103998, 0.33755783, 0.36019266,\n",
              "       0.45678005, 0.46275665, 0.79093517, 0.29575051, 0.46146589,\n",
              "       0.43313903, 0.62254965, 0.5585949 , 0.04740737, 0.85397489,\n",
              "       0.64256909, 0.15212173, 0.49579331, 0.90028886, 0.88276535,\n",
              "       0.40365408, 0.2382463 , 0.95181841, 0.73519472, 0.66333272,\n",
              "       0.40889652, 0.86521375, 0.19289379, 0.82802054, 0.80025525,\n",
              "       0.52225306, 0.3639548 , 0.68624492, 0.38830638, 0.41360367,\n",
              "       0.26964155, 0.78326828, 0.15382401, 0.4950853 , 0.44201682,\n",
              "       0.98606868, 0.11027778, 0.56549225, 0.22175259, 0.95042397,\n",
              "       0.12571714, 0.9163971 , 0.64561621, 0.19077339, 0.41446536,\n",
              "       0.2757438 , 0.47744453, 0.82471407, 0.48091166, 0.98513651,\n",
              "       0.91160761, 0.21626896, 0.1326575 , 0.68394761, 0.35990371,\n",
              "       0.26540484, 0.92549658, 0.57841146, 0.26855311, 0.56333748,\n",
              "       0.55038301, 0.79926246, 0.41226899, 0.50416439, 0.15219385,\n",
              "       0.8487494 , 0.9192292 , 0.00214704, 0.75543213, 0.973171  ,\n",
              "       0.85903306, 0.79949204, 0.2153267 , 0.99076444, 0.37323376,\n",
              "       0.85775385, 0.7783426 , 0.60671695, 0.9649848 , 0.95737623,\n",
              "       0.44370039, 0.47245969, 0.90305327, 0.45135175, 0.8689432 ,\n",
              "       0.22692452, 0.25245973, 0.38753314, 0.30885314, 0.45316705,\n",
              "       0.2215557 , 0.16398265, 0.38067023, 0.17772138, 0.3432666 ,\n",
              "       0.39672897, 0.9420742 , 0.41695678, 0.59084393, 0.92405279,\n",
              "       0.44420321, 0.27553312, 0.56724901, 0.82470659, 0.28400078,\n",
              "       0.73733227, 0.48127851, 0.52816772, 0.644314  , 0.46781092,\n",
              "       0.1862254 , 0.23138241, 0.04836611, 0.88172958, 0.6517751 ,\n",
              "       0.93894598, 0.31762257, 0.55897519, 0.57045233, 0.13952009,\n",
              "       0.55569569, 0.60553346, 0.4316789 , 0.34920036, 0.23630718,\n",
              "       0.07699087, 0.59871844, 0.19644018, 0.08057523, 0.98344255,\n",
              "       0.8902411 , 0.36113692, 0.47101246, 0.2046988 , 0.98639626,\n",
              "       0.30079772, 0.83557173, 0.74744073, 0.01679759, 0.0373027 ,\n",
              "       0.44008969, 0.03064513, 0.91833795, 0.97035205, 0.61271034,\n",
              "       0.30587525, 0.21294377, 0.13591121, 0.56687434, 0.15733404,\n",
              "       0.21963747, 0.71950734, 0.86910493, 0.63325264, 0.95613918])"
            ]
          },
          "metadata": {},
          "execution_count": 27
        }
      ],
      "source": [
        "rg = np.random.default_rng(2)\n",
        "aleatorio = rg.random(1000)\n",
        "aleatorio"
      ]
    },
    {
      "cell_type": "code",
      "execution_count": 28,
      "id": "b91eda2e-1ae1-44fe-845d-f38fa71da28e",
      "metadata": {
        "id": "b91eda2e-1ae1-44fe-845d-f38fa71da28e",
        "colab": {
          "base_uri": "https://localhost:8080/",
          "height": 430
        },
        "outputId": "02426c89-01e2-489f-a0f4-7f88914fb6cc"
      },
      "outputs": [
        {
          "output_type": "display_data",
          "data": {
            "text/plain": [
              "<Figure size 640x480 with 1 Axes>"
            ],
            "image/png": "[encoded data removed]"
          },
          "metadata": {}
        }
      ],
      "source": [
        "plt.hist(aleatorio, bins = 100)\n",
        "plt.show()"
      ]
    },
    {
      "cell_type": "markdown",
      "id": "93474f2c-03ed-4c5e-8eaf-58503cf1476e",
      "metadata": {
        "id": "93474f2c-03ed-4c5e-8eaf-58503cf1476e"
      },
      "source": [
        "__Ejercicio 14:__"
      ]
    },
    {
      "cell_type": "markdown",
      "id": "ce6d972e-370e-4c20-aa5f-da7842f765a9",
      "metadata": {
        "id": "ce6d972e-370e-4c20-aa5f-da7842f765a9"
      },
      "source": [
        "Utilizar rg.normal para generar 100000 valores aleatorios que sigan una distribución normal"
      ]
    },
    {
      "cell_type": "code",
      "execution_count": 29,
      "id": "f6cd3814-1cf1-47cf-98be-2dac3bcd3573",
      "metadata": {
        "id": "f6cd3814-1cf1-47cf-98be-2dac3bcd3573",
        "colab": {
          "base_uri": "https://localhost:8080/"
        },
        "outputId": "2ab9f999-72a8-4ff8-e23b-467164b7ca57"
      },
      "outputs": [
        {
          "output_type": "execute_result",
          "data": {
            "text/plain": [
              "array([ 0.70327786,  0.92189536, -0.75299628, ..., -1.2867264 ,\n",
              "       -0.26667961,  0.5239371 ])"
            ]
          },
          "metadata": {},
          "execution_count": 29
        }
      ],
      "source": [
        "normal = rg.normal(size=100000)\n",
        "normal"
      ]
    },
    {
      "cell_type": "code",
      "execution_count": 30,
      "id": "6aefe781-fce0-475e-b583-09642e942696",
      "metadata": {
        "id": "6aefe781-fce0-475e-b583-09642e942696",
        "colab": {
          "base_uri": "https://localhost:8080/",
          "height": 430
        },
        "outputId": "516fff42-8c3b-472b-ade1-8f320db1b170"
      },
      "outputs": [
        {
          "output_type": "display_data",
          "data": {
            "text/plain": [
              "<Figure size 640x480 with 1 Axes>"
            ],
            "image/png": "[encoded data removed]"
          },
          "metadata": {}
        }
      ],
      "source": [
        "plt.hist(normal, bins = 1000)\n",
        "plt.show()"
      ]
    },
    {
      "cell_type": "markdown",
      "id": "1159dfcb-d59b-48f4-89b6-a1b5778595a0",
      "metadata": {
        "id": "1159dfcb-d59b-48f4-89b6-a1b5778595a0"
      },
      "source": [
        "__Ejercicio 15:__"
      ]
    },
    {
      "cell_type": "markdown",
      "id": "55d97f65-d5b4-4a8d-90c9-d6ef6759c209",
      "metadata": {
        "id": "55d97f65-d5b4-4a8d-90c9-d6ef6759c209"
      },
      "source": [
        "Utilizar rg.integers para generar 2000 números aleatorios enteros entre el 0 y el 19"
      ]
    },
    {
      "cell_type": "code",
      "execution_count": 31,
      "id": "545685a7-641e-412c-a0e4-568654ce2220",
      "metadata": {
        "id": "545685a7-641e-412c-a0e4-568654ce2220",
        "colab": {
          "base_uri": "https://localhost:8080/"
        },
        "outputId": "7e4712e0-6206-43b7-bfca-880220c692a6"
      },
      "outputs": [
        {
          "output_type": "execute_result",
          "data": {
            "text/plain": [
              "array([17,  9,  6, ..., 16, 14,  9])"
            ]
          },
          "metadata": {},
          "execution_count": 31
        }
      ],
      "source": [
        "enteros = rg.integers(20,size=2000)\n",
        "enteros"
      ]
    },
    {
      "cell_type": "code",
      "execution_count": 32,
      "id": "87b4f720-2e82-41ae-85e6-2ca3e70eeecd",
      "metadata": {
        "id": "87b4f720-2e82-41ae-85e6-2ca3e70eeecd",
        "colab": {
          "base_uri": "https://localhost:8080/",
          "height": 430
        },
        "outputId": "8e7a4f64-725d-4c69-d8e8-ee57096ef904"
      },
      "outputs": [
        {
          "output_type": "display_data",
          "data": {
            "text/plain": [
              "<Figure size 640x480 with 1 Axes>"
            ],
            "image/png": "[encoded data removed]"
          },
          "metadata": {}
        }
      ],
      "source": [
        "plt.hist(enteros, bins = 20)\n",
        "plt.show()"
      ]
    },
    {
      "cell_type": "code",
      "execution_count": null,
      "id": "8fd03ef3-875a-44ba-914c-26e57cd4dcba",
      "metadata": {
        "id": "8fd03ef3-875a-44ba-914c-26e57cd4dcba"
      },
      "outputs": [],
      "source": [
        "#np.unique(enteros, return_counts=True) Comprobar que los valores son muy similares"
      ]
    },
    {
      "cell_type": "markdown",
      "id": "3324d3f5-a77a-42c0-ba7e-25313e43bb58",
      "metadata": {
        "id": "3324d3f5-a77a-42c0-ba7e-25313e43bb58"
      },
      "source": [
        "__Ejercicio 16:__"
      ]
    },
    {
      "cell_type": "markdown",
      "id": "d907b4dc-301e-4b21-bde5-4dd96fdcd076",
      "metadata": {
        "id": "d907b4dc-301e-4b21-bde5-4dd96fdcd076"
      },
      "source": [
        "Utilizar rg.choice para elegir 10 números aleatorios SIN REPETIR entre el 0 y el 25"
      ]
    },
    {
      "cell_type": "code",
      "execution_count": 33,
      "id": "7ec02ffd-eef3-4e3e-b2e9-59450b94d3bd",
      "metadata": {
        "id": "7ec02ffd-eef3-4e3e-b2e9-59450b94d3bd",
        "colab": {
          "base_uri": "https://localhost:8080/"
        },
        "outputId": "ac355f05-01bc-4781-99d3-c0c6158ec74a"
      },
      "outputs": [
        {
          "output_type": "execute_result",
          "data": {
            "text/plain": [
              "array([ 0,  7,  1, 13, 20,  9,  8, 11, 18,  4])"
            ]
          },
          "metadata": {},
          "execution_count": 33
        }
      ],
      "source": [
        "rg.choice(26, size=10, replace=False)"
      ]
    },
    {
      "cell_type": "markdown",
      "id": "385775b3-86a0-4715-908b-dfa75dca95f2",
      "metadata": {
        "id": "385775b3-86a0-4715-908b-dfa75dca95f2"
      },
      "source": [
        "__Ejercicio 17:__"
      ]
    },
    {
      "cell_type": "code",
      "execution_count": 34,
      "id": "76b0c5a0-5b28-48fe-9485-baad8cf663c6",
      "metadata": {
        "id": "76b0c5a0-5b28-48fe-9485-baad8cf663c6",
        "colab": {
          "base_uri": "https://localhost:8080/"
        },
        "outputId": "6240136f-c3d5-49e7-f925-c54a69f90fd2"
      },
      "outputs": [
        {
          "output_type": "execute_result",
          "data": {
            "text/plain": [
              "array([ 4, 11,  8,  8,  8, 17,  9, 16])"
            ]
          },
          "metadata": {},
          "execution_count": 34
        }
      ],
      "source": [
        "estadisticos = rg.integers(20,size=8)\n",
        "estadisticos"
      ]
    },
    {
      "cell_type": "markdown",
      "id": "012b5e04-220e-433c-b0ec-b21aa9d326cf",
      "metadata": {
        "id": "012b5e04-220e-433c-b0ec-b21aa9d326cf"
      },
      "source": [
        "Utilizar la función min() para obtener el valor mínimo en el ndarray \"estadisticos\""
      ]
    },
    {
      "cell_type": "code",
      "execution_count": 35,
      "id": "e4a38410-43ac-4c7c-92bd-c3d65c0b5432",
      "metadata": {
        "id": "e4a38410-43ac-4c7c-92bd-c3d65c0b5432",
        "colab": {
          "base_uri": "https://localhost:8080/"
        },
        "outputId": "f45af7b7-b8fb-4669-a166-b911f3774ba3"
      },
      "outputs": [
        {
          "output_type": "execute_result",
          "data": {
            "text/plain": [
              "4"
            ]
          },
          "metadata": {},
          "execution_count": 35
        }
      ],
      "source": [
        "estadisticos.min()"
      ]
    },
    {
      "cell_type": "markdown",
      "id": "117dddae-3654-43cf-9e8d-54e783a674cb",
      "metadata": {
        "id": "117dddae-3654-43cf-9e8d-54e783a674cb"
      },
      "source": [
        "Utilizar la función max() para obtener el valor máximo en el ndarray \"estadisticos\""
      ]
    },
    {
      "cell_type": "code",
      "execution_count": 36,
      "id": "abaf6bb5-c24d-4607-b7e2-f6fafde47d97",
      "metadata": {
        "id": "abaf6bb5-c24d-4607-b7e2-f6fafde47d97",
        "colab": {
          "base_uri": "https://localhost:8080/"
        },
        "outputId": "edd5783f-6ce0-4c0c-aec6-740215e1f4f8"
      },
      "outputs": [
        {
          "output_type": "execute_result",
          "data": {
            "text/plain": [
              "17"
            ]
          },
          "metadata": {},
          "execution_count": 36
        }
      ],
      "source": [
        "estadisticos.max()"
      ]
    },
    {
      "cell_type": "markdown",
      "id": "fd88688f-2bc0-4c5d-bcd2-af6fe9e99411",
      "metadata": {
        "id": "fd88688f-2bc0-4c5d-bcd2-af6fe9e99411"
      },
      "source": [
        "Utilizar la función mean() para obtener el valor promedio en el ndarray \"estadisticos\""
      ]
    },
    {
      "cell_type": "code",
      "execution_count": 37,
      "id": "3b38b3b3-2245-4731-af11-7e19474af1cc",
      "metadata": {
        "id": "3b38b3b3-2245-4731-af11-7e19474af1cc",
        "colab": {
          "base_uri": "https://localhost:8080/"
        },
        "outputId": "0d415d2d-8bb3-4eb5-da20-319b60c2eedd"
      },
      "outputs": [
        {
          "output_type": "execute_result",
          "data": {
            "text/plain": [
              "10.125"
            ]
          },
          "metadata": {},
          "execution_count": 37
        }
      ],
      "source": [
        "estadisticos.mean()"
      ]
    },
    {
      "cell_type": "markdown",
      "id": "e0ef2fef-cad0-4579-a8ce-b298b42fb330",
      "metadata": {
        "id": "e0ef2fef-cad0-4579-a8ce-b298b42fb330"
      },
      "source": [
        "Utilizar la función std() para obtener el valor de la desviación estandar en el ndarray \"estadisticos\""
      ]
    },
    {
      "cell_type": "code",
      "execution_count": 38,
      "id": "77c908c4-d007-4baa-801a-314aab7b2369",
      "metadata": {
        "id": "77c908c4-d007-4baa-801a-314aab7b2369",
        "colab": {
          "base_uri": "https://localhost:8080/"
        },
        "outputId": "29c0be24-39fe-4ed8-e30e-a7c7ba9e5e2b"
      },
      "outputs": [
        {
          "output_type": "execute_result",
          "data": {
            "text/plain": [
              "4.106016926414211"
            ]
          },
          "metadata": {},
          "execution_count": 38
        }
      ],
      "source": [
        "estadisticos.std()"
      ]
    },
    {
      "cell_type": "markdown",
      "id": "979aded7-3aa6-4248-b2f6-ea271c5f6e79",
      "metadata": {
        "id": "979aded7-3aa6-4248-b2f6-ea271c5f6e79"
      },
      "source": [
        "Utilizar la función sum() para obtener el valor al sumar todos los números en el ndarray \"estadisticos\""
      ]
    },
    {
      "cell_type": "code",
      "execution_count": 39,
      "id": "ee48bd78-1b9b-4c32-b270-62f6f20a1c63",
      "metadata": {
        "id": "ee48bd78-1b9b-4c32-b270-62f6f20a1c63",
        "colab": {
          "base_uri": "https://localhost:8080/"
        },
        "outputId": "da08c851-3163-4e3d-e9f7-da76bc1233ff"
      },
      "outputs": [
        {
          "output_type": "execute_result",
          "data": {
            "text/plain": [
              "81"
            ]
          },
          "metadata": {},
          "execution_count": 39
        }
      ],
      "source": [
        "estadisticos.sum()"
      ]
    },
    {
      "cell_type": "markdown",
      "id": "b8a7f523-541e-4ffc-9090-f6a18f852ef2",
      "metadata": {
        "id": "b8a7f523-541e-4ffc-9090-f6a18f852ef2"
      },
      "source": [
        "__Ejercicio 18:__"
      ]
    },
    {
      "cell_type": "code",
      "execution_count": 40,
      "id": "acb73618-214c-4fcb-b022-1a97e618f4b1",
      "metadata": {
        "id": "acb73618-214c-4fcb-b022-1a97e618f4b1",
        "colab": {
          "base_uri": "https://localhost:8080/"
        },
        "outputId": "842fdad0-887a-4e9b-a18e-2f6d607c0f07"
      },
      "outputs": [
        {
          "output_type": "execute_result",
          "data": {
            "text/plain": [
              "array([[ 6,  8, 11,  8],\n",
              "       [13, 14,  0,  0],\n",
              "       [ 8, 17, 17, 10],\n",
              "       [ 5, 10,  1,  2],\n",
              "       [18, 16, 14,  2]])"
            ]
          },
          "metadata": {},
          "execution_count": 40
        }
      ],
      "source": [
        "estadisticos_2d = rg.integers(20,size=(5,4))\n",
        "estadisticos_2d"
      ]
    },
    {
      "cell_type": "markdown",
      "id": "88696800-dfdf-4b5f-bf3b-8412b1a84e19",
      "metadata": {
        "id": "88696800-dfdf-4b5f-bf3b-8412b1a84e19"
      },
      "source": [
        "Utilizar la función min() para obtener el valor mínimo de cada columna en el ndarray \"estadisticos_2d\""
      ]
    },
    {
      "cell_type": "code",
      "execution_count": 41,
      "id": "fdc54d32-3db7-4e6c-a9ef-b87680bcc1fd",
      "metadata": {
        "id": "fdc54d32-3db7-4e6c-a9ef-b87680bcc1fd",
        "colab": {
          "base_uri": "https://localhost:8080/"
        },
        "outputId": "36d93821-f199-4beb-d1f5-682cad209b34"
      },
      "outputs": [
        {
          "output_type": "execute_result",
          "data": {
            "text/plain": [
              "array([5, 8, 0, 0])"
            ]
          },
          "metadata": {},
          "execution_count": 41
        }
      ],
      "source": [
        "estadisticos_2d.min(axis=0) # axis=0 es columnas"
      ]
    },
    {
      "cell_type": "markdown",
      "id": "7e18ef29-8d28-41ee-b42a-c5788b7179a5",
      "metadata": {
        "id": "7e18ef29-8d28-41ee-b42a-c5788b7179a5"
      },
      "source": [
        "Utilizar la función max() para obtener el valor mínimo de cada fila en el ndarray \"estadisticos_2d\""
      ]
    },
    {
      "cell_type": "code",
      "execution_count": 42,
      "id": "86f54bac-4399-46d6-8a11-866cab776aa0",
      "metadata": {
        "id": "86f54bac-4399-46d6-8a11-866cab776aa0",
        "colab": {
          "base_uri": "https://localhost:8080/"
        },
        "outputId": "5576101d-8af3-4126-d93c-bc4bfba43ebb"
      },
      "outputs": [
        {
          "output_type": "execute_result",
          "data": {
            "text/plain": [
              "array([11, 14, 17, 10, 18])"
            ]
          },
          "metadata": {},
          "execution_count": 42
        }
      ],
      "source": [
        "estadisticos_2d.max(axis=1) # axis=1 es filas"
      ]
    },
    {
      "cell_type": "markdown",
      "id": "e1fa802b-7974-471d-a02a-7e17a6ab7ae4",
      "metadata": {
        "id": "e1fa802b-7974-471d-a02a-7e17a6ab7ae4"
      },
      "source": [
        "__Ejercicio 19:__"
      ]
    },
    {
      "cell_type": "code",
      "execution_count": 43,
      "id": "ae7128dd-fdb9-49e7-a68f-b89aa5e7eb6d",
      "metadata": {
        "id": "ae7128dd-fdb9-49e7-a68f-b89aa5e7eb6d",
        "colab": {
          "base_uri": "https://localhost:8080/"
        },
        "outputId": "00699ee5-53d6-4c47-80fc-d40fec97ca6a"
      },
      "outputs": [
        {
          "output_type": "execute_result",
          "data": {
            "text/plain": [
              "array([[ 6,  8, 11,  8],\n",
              "       [13, 14,  0,  0],\n",
              "       [ 8, 17, 17, 10],\n",
              "       [ 5, 10,  1,  2],\n",
              "       [18, 16, 14,  2]])"
            ]
          },
          "metadata": {},
          "execution_count": 43
        }
      ],
      "source": [
        "estadisticos_2d"
      ]
    },
    {
      "cell_type": "markdown",
      "id": "28e17497-4e11-4fad-9cf5-727078caf77e",
      "metadata": {
        "id": "28e17497-4e11-4fad-9cf5-727078caf77e"
      },
      "source": [
        "Obtener los valores menores a 12 en el ndarray \"estadisticos_2d\""
      ]
    },
    {
      "cell_type": "code",
      "execution_count": 44,
      "id": "65137100-5cbc-4047-b8c7-bc9d20e0e3ca",
      "metadata": {
        "id": "65137100-5cbc-4047-b8c7-bc9d20e0e3ca",
        "colab": {
          "base_uri": "https://localhost:8080/"
        },
        "outputId": "330020c2-4e70-4f99-e3a5-0b463596ab36"
      },
      "outputs": [
        {
          "output_type": "execute_result",
          "data": {
            "text/plain": [
              "array([ 6,  8, 11,  8,  0,  0,  8, 10,  5, 10,  1,  2,  2])"
            ]
          },
          "metadata": {},
          "execution_count": 44
        }
      ],
      "source": [
        "estadisticos_2d[estadisticos_2d<12]"
      ]
    },
    {
      "cell_type": "code",
      "execution_count": null,
      "id": "5ff3cdc3-7b84-424f-8b1f-b7d9a8851d03",
      "metadata": {
        "id": "5ff3cdc3-7b84-424f-8b1f-b7d9a8851d03"
      },
      "outputs": [],
      "source": []
    },
    {
      "cell_type": "markdown",
      "id": "a6008ae4-8a10-4ff4-92f1-1f82b82c8b5a",
      "metadata": {
        "id": "a6008ae4-8a10-4ff4-92f1-1f82b82c8b5a"
      },
      "source": [
        "__Ejercicio 20:__"
      ]
    },
    {
      "cell_type": "code",
      "execution_count": 45,
      "id": "25fdd4ed-5a3f-4a3b-8a08-486776700b92",
      "metadata": {
        "id": "25fdd4ed-5a3f-4a3b-8a08-486776700b92",
        "colab": {
          "base_uri": "https://localhost:8080/"
        },
        "outputId": "9bf507cf-8c4f-49b0-d2d8-31f517d2e750"
      },
      "outputs": [
        {
          "output_type": "stream",
          "name": "stdout",
          "text": [
            "[[19 19 15]\n",
            " [19 15 10]\n",
            " [15 16  5]] \n",
            "\n",
            " [[ 9 18 14]\n",
            " [ 7 19 17]\n",
            " [ 8 11  2]]\n"
          ]
        }
      ],
      "source": [
        "np1 = rg.integers(20,size=(3,3))\n",
        "np2 = rg.integers(20,size=(3,3))\n",
        "print(np1,\"\\n\\n\",np2)"
      ]
    },
    {
      "cell_type": "markdown",
      "id": "ad017f47-c974-4168-9c79-bd407cec5ef8",
      "metadata": {
        "id": "ad017f47-c974-4168-9c79-bd407cec5ef8"
      },
      "source": [
        "Utilizar np.vstack para unir los ndarray \"np1\" y \"np2\" verticalmente"
      ]
    },
    {
      "cell_type": "code",
      "execution_count": 46,
      "id": "c8b9b36b-7bfb-4027-91ea-626227546983",
      "metadata": {
        "id": "c8b9b36b-7bfb-4027-91ea-626227546983",
        "colab": {
          "base_uri": "https://localhost:8080/"
        },
        "outputId": "d6a4d4d2-27a1-468e-f67d-31ab43511b61"
      },
      "outputs": [
        {
          "output_type": "execute_result",
          "data": {
            "text/plain": [
              "array([[19, 19, 15],\n",
              "       [19, 15, 10],\n",
              "       [15, 16,  5],\n",
              "       [ 9, 18, 14],\n",
              "       [ 7, 19, 17],\n",
              "       [ 8, 11,  2]])"
            ]
          },
          "metadata": {},
          "execution_count": 46
        }
      ],
      "source": [
        "np.vstack((np1,np2))"
      ]
    },
    {
      "cell_type": "markdown",
      "id": "66f8921c-45d8-4c7d-9430-999d5fa3c335",
      "metadata": {
        "id": "66f8921c-45d8-4c7d-9430-999d5fa3c335"
      },
      "source": [
        "Utilizar np.vstack para unir los ndarray \"np1\" y \"np2\" horizontalmente"
      ]
    },
    {
      "cell_type": "code",
      "execution_count": 47,
      "id": "44fbc502-904a-461e-a74f-23d10bc37a12",
      "metadata": {
        "id": "44fbc502-904a-461e-a74f-23d10bc37a12",
        "colab": {
          "base_uri": "https://localhost:8080/"
        },
        "outputId": "48a4ebf9-1c73-4bce-8245-9ead7b34491f"
      },
      "outputs": [
        {
          "output_type": "execute_result",
          "data": {
            "text/plain": [
              "array([[19, 19, 15,  9, 18, 14],\n",
              "       [19, 15, 10,  7, 19, 17],\n",
              "       [15, 16,  5,  8, 11,  2]])"
            ]
          },
          "metadata": {},
          "execution_count": 47
        }
      ],
      "source": [
        "np.hstack((np1,np2))"
      ]
    },
    {
      "cell_type": "markdown",
      "id": "a7eafbf0-968b-41cb-b966-c67bb42bf049",
      "metadata": {
        "id": "a7eafbf0-968b-41cb-b966-c67bb42bf049"
      },
      "source": [
        "__Ejercicio 21:__"
      ]
    },
    {
      "cell_type": "code",
      "execution_count": 48,
      "id": "a929ea5f-6635-48f3-a32a-d6f5bea564f7",
      "metadata": {
        "id": "a929ea5f-6635-48f3-a32a-d6f5bea564f7",
        "colab": {
          "base_uri": "https://localhost:8080/"
        },
        "outputId": "330cc0bc-0f3f-456f-84c2-3644e6dc3a9a"
      },
      "outputs": [
        {
          "output_type": "execute_result",
          "data": {
            "text/plain": [
              "array([ 0, 14,  8, 19,  3,  4,  1,  8, 15, 15])"
            ]
          },
          "metadata": {},
          "execution_count": 48
        }
      ],
      "source": [
        "enteros = rg.integers(20,size=(10))\n",
        "enteros"
      ]
    },
    {
      "cell_type": "markdown",
      "id": "f07668c4-1d9a-46e9-8e6d-a80aaeb3961c",
      "metadata": {
        "id": "f07668c4-1d9a-46e9-8e6d-a80aaeb3961c"
      },
      "source": [
        "Seleccionar los primeros 6 valores del ndarray \"enteros\""
      ]
    },
    {
      "cell_type": "code",
      "execution_count": 49,
      "id": "62f98dce-8e1e-4749-86b4-e1bed5f44081",
      "metadata": {
        "id": "62f98dce-8e1e-4749-86b4-e1bed5f44081",
        "colab": {
          "base_uri": "https://localhost:8080/"
        },
        "outputId": "4f407441-8f40-4775-80d4-2a6442891d4a"
      },
      "outputs": [
        {
          "output_type": "execute_result",
          "data": {
            "text/plain": [
              "array([ 0, 14,  8, 19,  3,  4])"
            ]
          },
          "metadata": {},
          "execution_count": 49
        }
      ],
      "source": [
        "enteros[:6]"
      ]
    },
    {
      "cell_type": "markdown",
      "id": "7c243a71-e44a-4467-9621-0da26997e335",
      "metadata": {
        "id": "7c243a71-e44a-4467-9621-0da26997e335"
      },
      "source": [
        "Seleccionar los valores en la posición 0,2 y 4 del ndarray \"enteros\""
      ]
    },
    {
      "cell_type": "code",
      "execution_count": 50,
      "id": "5e09e7ea-3ac8-48ba-8330-9b4213db98bb",
      "metadata": {
        "id": "5e09e7ea-3ac8-48ba-8330-9b4213db98bb",
        "colab": {
          "base_uri": "https://localhost:8080/"
        },
        "outputId": "ec76ec0b-64dc-4399-d705-563d56906ea4"
      },
      "outputs": [
        {
          "output_type": "execute_result",
          "data": {
            "text/plain": [
              "array([0, 8, 3])"
            ]
          },
          "metadata": {},
          "execution_count": 50
        }
      ],
      "source": [
        "enteros[[0,2,4]]"
      ]
    },
    {
      "cell_type": "markdown",
      "id": "6178664b-de22-41cb-a499-53d704784b94",
      "metadata": {
        "id": "6178664b-de22-41cb-a499-53d704784b94"
      },
      "source": [
        "Seleccionar todos los valores con un indice par en el ndarray \"enteros\" (0,2,4,...)"
      ]
    },
    {
      "cell_type": "code",
      "execution_count": 51,
      "id": "11169abe-382b-4b5f-8332-371f3edabcfc",
      "metadata": {
        "id": "11169abe-382b-4b5f-8332-371f3edabcfc",
        "colab": {
          "base_uri": "https://localhost:8080/"
        },
        "outputId": "e4650b7d-88cd-4ba2-fff4-7b531af84a55"
      },
      "outputs": [
        {
          "output_type": "execute_result",
          "data": {
            "text/plain": [
              "array([ 0,  8,  3,  1, 15])"
            ]
          },
          "metadata": {},
          "execution_count": 51
        }
      ],
      "source": [
        "enteros[::2]"
      ]
    },
    {
      "cell_type": "markdown",
      "id": "fd2d863b-c2cf-4de4-bcdc-59fdfb9170a5",
      "metadata": {
        "id": "fd2d863b-c2cf-4de4-bcdc-59fdfb9170a5"
      },
      "source": [
        "__Ejercicio 22:__"
      ]
    },
    {
      "cell_type": "code",
      "execution_count": 52,
      "id": "6c5257e2-4553-48a6-a8f2-765c128d18c3",
      "metadata": {
        "id": "6c5257e2-4553-48a6-a8f2-765c128d18c3",
        "colab": {
          "base_uri": "https://localhost:8080/"
        },
        "outputId": "cf2a2ff2-7859-40e9-98ea-4fe9aed9738b"
      },
      "outputs": [
        {
          "output_type": "execute_result",
          "data": {
            "text/plain": [
              "array([[ 4,  3,  8,  8, 12],\n",
              "       [ 8, 19,  8, 19,  5],\n",
              "       [ 2, 13,  0,  4, 10],\n",
              "       [ 6, 10,  9,  0,  4],\n",
              "       [ 2, 18, 15,  1,  8],\n",
              "       [17, 17, 16,  1, 15],\n",
              "       [ 1, 13,  4,  5,  5],\n",
              "       [16,  0,  4,  7,  3]])"
            ]
          },
          "metadata": {},
          "execution_count": 52
        }
      ],
      "source": [
        "enteros_2d = rg.integers(20,size=(8,5))\n",
        "enteros_2d"
      ]
    },
    {
      "cell_type": "markdown",
      "id": "37bc0a12-9c60-4973-a312-80804c150ada",
      "metadata": {
        "id": "37bc0a12-9c60-4973-a312-80804c150ada"
      },
      "source": [
        "Seleccionar el cuarto valor en el segundo array de \"enteros_2d\""
      ]
    },
    {
      "cell_type": "code",
      "execution_count": 53,
      "id": "b1647bbd-6a30-4d1b-a04e-2381da07d9d0",
      "metadata": {
        "id": "b1647bbd-6a30-4d1b-a04e-2381da07d9d0",
        "colab": {
          "base_uri": "https://localhost:8080/"
        },
        "outputId": "6a7133f6-7e70-48cf-ff73-ac388cfdf2a4"
      },
      "outputs": [
        {
          "output_type": "execute_result",
          "data": {
            "text/plain": [
              "19"
            ]
          },
          "metadata": {},
          "execution_count": 53
        }
      ],
      "source": [
        "enteros_2d[1,3]"
      ]
    },
    {
      "cell_type": "markdown",
      "id": "8735f0f9-4d36-4640-b47c-539587896e73",
      "metadata": {
        "id": "8735f0f9-4d36-4640-b47c-539587896e73"
      },
      "source": [
        "Seleccionar el segundo valor en los arrays con indice 3, 4 y 5 de \"enteros_2d\""
      ]
    },
    {
      "cell_type": "code",
      "execution_count": 54,
      "id": "40b2a7ad-eaea-425d-a8bc-058fba013c59",
      "metadata": {
        "id": "40b2a7ad-eaea-425d-a8bc-058fba013c59",
        "colab": {
          "base_uri": "https://localhost:8080/"
        },
        "outputId": "7781f5c0-1276-496b-b802-7f32505395d3"
      },
      "outputs": [
        {
          "output_type": "execute_result",
          "data": {
            "text/plain": [
              "array([10, 18, 17])"
            ]
          },
          "metadata": {},
          "execution_count": 54
        }
      ],
      "source": [
        "enteros_2d[[3,4,5],1]"
      ]
    },
    {
      "cell_type": "markdown",
      "id": "ed773fbb-8795-4e25-adb1-3952ab3be59f",
      "metadata": {
        "id": "ed773fbb-8795-4e25-adb1-3952ab3be59f"
      },
      "source": [
        "Seleccionar los 2 primeros valores en los arrays con indice 4, 5 y 6 de \"enteros_2d\""
      ]
    },
    {
      "cell_type": "code",
      "execution_count": 55,
      "id": "730ceebe-04bc-46d1-a8a2-d98207d66afb",
      "metadata": {
        "id": "730ceebe-04bc-46d1-a8a2-d98207d66afb",
        "colab": {
          "base_uri": "https://localhost:8080/"
        },
        "outputId": "3bab675c-918e-4d19-8b60-4e811b2e3616"
      },
      "outputs": [
        {
          "output_type": "execute_result",
          "data": {
            "text/plain": [
              "array([[ 2, 18],\n",
              "       [17, 17],\n",
              "       [ 1, 13]])"
            ]
          },
          "metadata": {},
          "execution_count": 55
        }
      ],
      "source": [
        "enteros_2d[[4,5,6],:2]"
      ]
    }
  ],
  "metadata": {
    "kernelspec": {
      "display_name": "Python 3 (ipykernel)",
      "language": "python",
      "name": "python3"
    },
    "language_info": {
      "codemirror_mode": {
        "name": "ipython",
        "version": 3
      },
      "file_extension": ".py",
      "mimetype": "text/x-python",
      "name": "python",
      "nbconvert_exporter": "python",
      "pygments_lexer": "ipython3",
      "version": "3.9.7"
    },
    "colab": {
      "provenance": [],
      "include_colab_link": true
    }
  },
  "nbformat": 4,
  "nbformat_minor": 5
}